{
 "cells": [
  {
   "cell_type": "markdown",
   "metadata": {},
   "source": [
    "## Python Slicing | Reverse an array in groups of given size"
   ]
  },
  {
   "cell_type": "code",
   "execution_count": 1,
   "metadata": {},
   "outputs": [
    {
     "name": "stdout",
     "output_type": "stream",
     "text": [
      "[2, 1, 4, 3, 6, 5, 8, 7]\n"
     ]
    }
   ],
   "source": [
    "# function to Reverse an array in groups of given size \n",
    "  \n",
    "def reverseGroup(input,k): \n",
    "  \n",
    "    # set starting index at 0 \n",
    "    start = 0\n",
    "  \n",
    "    # run a while loop len(input)/k times \n",
    "    # because there will be len(input)/k number  \n",
    "    # of groups of size k  \n",
    "    result = [] \n",
    "    while (start<len(input)): \n",
    "  \n",
    "           # if length of group is less than k \n",
    "           # that means we are left with only last  \n",
    "           # group reverse remaining elements  \n",
    "           if len(input[start:])<k: \n",
    "                result = result + list(reversed(input[start:])) \n",
    "                break\n",
    "  \n",
    "           # select current group of size of k \n",
    "           # reverse it and concatenate  \n",
    "           result = result + list(reversed(input[start:start + k])) \n",
    "           start = start + k \n",
    "    print(result) \n",
    "  \n",
    "# Driver program \n",
    "if __name__ == \"__main__\": \n",
    "    input = [1, 2, 3, 4, 5, 6, 7, 8] \n",
    "    k = 2\n",
    "    reverseGroup(input,k)"
   ]
  },
  {
   "cell_type": "markdown",
   "metadata": {},
   "source": [
    "## Python List Comprehension and Slicing"
   ]
  },
  {
   "cell_type": "code",
   "execution_count": 19,
   "metadata": {},
   "outputs": [
    {
     "name": "stdout",
     "output_type": "stream",
     "text": [
      "[2, 4, 8, 16, 32, 64, 128, 256]\n",
      "\n",
      "This number are noprimes {4, 6, 8, 9, 10, 12, 14, 15, 16, 18, 20, 21, 22, 24, 25, 26, 27, 28, 30, 32, 33, 34, 35, 36, 38, 39, 40, 42, 44, 45, 46, 48, 49}\n",
      "\n",
      "This number are primes {2, 3, 5, 37, 7, 41, 11, 43, 13, 47, 17, 19, 23, 29, 31}\n",
      "\n",
      "Extracted digits\n",
      "['1', '1', '1', '2', '2']\n",
      "\n",
      " odd numbers of the lis [1, 3, 5, 13]\n"
     ]
    }
   ],
   "source": [
    "# below list contains power of 2 from 1 to 8 \n",
    "power_of_2 = [2 ** x for x in range(1, 9)] \n",
    "print (power_of_2 )\n",
    "\n",
    "# below list contains prime and non-prime in range 1 to 50 \n",
    "noprimes = [j for i in range(2, 8) for j in range(i*2, 50, i)] \n",
    "print(\"\\nThis number are noprimes\" , set(noprimes))\n",
    "\n",
    "primes = [x for x in range(2, 50) if  x not in noprimes]\n",
    "print(\"\\nThis number are primes\" , set(primes))\n",
    "\n",
    "print(\"\\nExtracted digits\") \n",
    "string = \"my phone number is : 11122 !!\"\n",
    "numbers = [x for x in string if x.isdigit()] \n",
    "print(numbers) \n",
    "\n",
    "\n",
    "# a list contains both even and odd numbers.  \n",
    "seq = [0, 1, 2, 3, 5, 8, 13] \n",
    "# result contains odd numbers of the list \n",
    "result = filter(lambda x: x % 2, seq) \n",
    "print(\"\\n odd numbers of the lis\",list(result)) "
   ]
  },
  {
   "cell_type": "markdown",
   "metadata": {},
   "source": [
    "## Python | Alternate range slicing in list"
   ]
  },
  {
   "cell_type": "code",
   "execution_count": 21,
   "metadata": {},
   "outputs": [
    {
     "name": "stdout",
     "output_type": "stream",
     "text": [
      "With For loop [[1, 5], [3], [7, 8, 10], [11, 16, 9, 12]]\n",
      "With itertools [[1, 5], [3], [7, 8, 10], [11, 16, 9, 12]]\n"
     ]
    }
   ],
   "source": [
    "test_list = [1, 5, 3, 7, 8, 10, 11, 16, 9, 12] \n",
    "slice_list = [2, 1, 3, 4] \n",
    "\n",
    "res = []\n",
    "start = 0\n",
    "end = slice_list[0]\n",
    "for i in slice_list:\n",
    "    end = start+ i\n",
    "    res.append(test_list[start:end])\n",
    "    start = end\n",
    "print(\"With For loop\",res)  \n",
    "        \n",
    "from itertools import islice\n",
    "test_list = [1, 5, 3, 7, 8, 10, 11, 16, 9, 12] \n",
    "slice_list = [2, 1, 3, 4] \n",
    "temp = iter(test_list) \n",
    "res = [list(islice(temp, part)) for part in slice_list]\n",
    "print(\"With itertools\",res) "
   ]
  },
  {
   "cell_type": "code",
   "execution_count": 26,
   "metadata": {},
   "outputs": [
    {
     "name": "stdout",
     "output_type": "stream",
     "text": [
      "[9, 10, 12, 16]\n"
     ]
    }
   ],
   "source": [
    "test_list = [2, 4, 6, 8, 9, 10, 12, 16, 18, 20, 7, 30] \n",
    "N = 4\n",
    "res = [test_list[i] for i in range(len(test_list)) if i % (N * 2) >= N]\n",
    "print(res)"
   ]
  },
  {
   "cell_type": "markdown",
   "metadata": {},
   "source": [
    "## range() to a list in Python"
   ]
  },
  {
   "cell_type": "code",
   "execution_count": 38,
   "metadata": {},
   "outputs": [
    {
     "name": "stdout",
     "output_type": "stream",
     "text": [
      "Will This work? No!!!  ==> [range(10, 21)]\n",
      "Will This  work ? Yupii!!!  [10, 11, 12, 13, 14, 15, 16, 17, 18, 19, 20]\n"
     ]
    }
   ],
   "source": [
    "My_list = [range(10, 21, 1)] \n",
    "  \n",
    "# Print the list \n",
    "print(\"Will This work? No!!!  ==>\" , My_list) \n",
    "\n",
    "#  We can use argument-unpacking operator i.e. *.\n",
    "My_list = [*range(10, 21, 1)] \n",
    "  \n",
    "# Print the list \n",
    "print(\"Will This  work ? Yupii!!! \", My_list) \n"
   ]
  },
  {
   "cell_type": "code",
   "execution_count": 35,
   "metadata": {},
   "outputs": [
    {
     "name": "stdout",
     "output_type": "stream",
     "text": [
      "10,11,12,13,14,15,16,17,18,19,"
     ]
    }
   ],
   "source": []
  },
  {
   "cell_type": "code",
   "execution_count": null,
   "metadata": {},
   "outputs": [],
   "source": []
  }
 ],
 "metadata": {
  "kernelspec": {
   "display_name": "Python 3",
   "language": "python",
   "name": "python3"
  },
  "language_info": {
   "codemirror_mode": {
    "name": "ipython",
    "version": 3
   },
   "file_extension": ".py",
   "mimetype": "text/x-python",
   "name": "python",
   "nbconvert_exporter": "python",
   "pygments_lexer": "ipython3",
   "version": "3.6.4"
  }
 },
 "nbformat": 4,
 "nbformat_minor": 2
}
